{
 "cells": [
  {
   "cell_type": "code",
   "execution_count": 1,
   "metadata": {},
   "outputs": [],
   "source": [
    "# Auto-reload modules when accessing them:\n",
    "%load_ext autoreload\n",
    "%autoreload 2 \n",
    "\n",
    "# Echo all output:\n",
    "from IPython.core.interactiveshell import InteractiveShell\n",
    "InteractiveShell.ast_node_interactivity = \"all\"\n",
    "\n",
    "# Import own functions for image analysis:\n",
    "import analysis_funs as va"
   ]
  },
  {
   "cell_type": "code",
   "execution_count": 2,
   "metadata": {},
   "outputs": [
    {
     "name": "stdout",
     "output_type": "stream",
     "text": [
      "Loading objects.json...\n"
     ]
    }
   ],
   "source": [
    "data = va.load_data('objects.json', prefix ='1.0/')\n",
    "assert len(data) == 108077"
   ]
  },
  {
   "cell_type": "code",
   "execution_count": 3,
   "metadata": {},
   "outputs": [
    {
     "data": {
      "text/plain": [
       "108077"
      ]
     },
     "execution_count": 3,
     "metadata": {},
     "output_type": "execute_result"
    }
   ],
   "source": [
    "len(data)"
   ]
  },
  {
   "cell_type": "code",
   "execution_count": 4,
   "metadata": {},
   "outputs": [
    {
     "data": {
      "text/plain": [
       "{'objects': [{'h': 339,\n",
       "   'names': ['clock'],\n",
       "   'w': 79,\n",
       "   'y': 91,\n",
       "   'x': 421,\n",
       "   'id': 38203},\n",
       "  {'h': 262, 'names': ['street'], 'w': 714, 'y': 328, 'x': 77, 'id': 38204},\n",
       "  {'h': 192, 'names': ['shade'], 'w': 274, 'y': 338, 'x': 119, 'id': 38205},\n",
       "  {'h': 262, 'names': ['man'], 'w': 60, 'y': 249, 'x': 238, 'id': 38206},\n",
       "  {'h': 26, 'names': ['sneakers'], 'w': 52, 'y': 489, 'x': 243, 'id': 38207},\n",
       "  {'h': 15, 'names': ['headlight'], 'w': 23, 'y': 366, 'x': 514, 'id': 38208},\n",
       "  {'h': 98, 'names': ['car'], 'w': 74, 'y': 315, 'x': 479, 'id': 38209},\n",
       "  {'h': 34, 'names': ['bike'], 'w': 28, 'y': 319, 'x': 318, 'id': 38210},\n",
       "  {'h': 35, 'names': ['bike'], 'w': 29, 'y': 319, 'x': 334, 'id': 38211},\n",
       "  {'h': 182, 'names': ['sign'], 'w': 88, 'y': 13, 'x': 118, 'id': 38212},\n",
       "  {'h': 536, 'names': ['building'], 'w': 218, 'y': 2, 'x': 1, 'id': 38213},\n",
       "  {'h': 327,\n",
       "   'names': ['tree trunk'],\n",
       "   'w': 87,\n",
       "   'y': 234,\n",
       "   'x': 622,\n",
       "   'id': 38214},\n",
       "  {'h': 266, 'names': ['sidewalk'], 'w': 722, 'y': 331, 'x': 77, 'id': 38215},\n",
       "  {'h': 101, 'names': ['shirt'], 'w': 59, 'y': 289, 'x': 241, 'id': 38216},\n",
       "  {'h': 233, 'names': ['street'], 'w': 440, 'y': 283, 'x': 358, 'id': 38219},\n",
       "  {'h': 174, 'names': ['car'], 'w': 91, 'y': 342, 'x': 708, 'id': 38220},\n",
       "  {'h': 170, 'names': ['back'], 'w': 67, 'y': 339, 'x': 721, 'id': 38221},\n",
       "  {'h': 12, 'names': ['glasses'], 'w': 20, 'y': 268, 'x': 271, 'id': 38223},\n",
       "  {'h': 143,\n",
       "   'names': ['parking meter'],\n",
       "   'w': 32,\n",
       "   'y': 327,\n",
       "   'x': 574,\n",
       "   'id': 38224},\n",
       "  {'h': 34, 'names': ['shoes'], 'w': 46, 'y': 481, 'x': 391, 'id': 38230},\n",
       "  {'h': 251, 'names': ['man'], 'w': 75, 'y': 264, 'x': 372, 'id': 38231},\n",
       "  {'h': 118, 'names': ['pants'], 'w': 38, 'y': 384, 'x': 245, 'id': 38233},\n",
       "  {'h': 97, 'names': ['jacket'], 'w': 89, 'y': 296, 'x': 356, 'id': 38235},\n",
       "  {'h': 128, 'names': ['pants'], 'w': 54, 'y': 369, 'x': 382, 'id': 38236},\n",
       "  {'h': 185,\n",
       "   'names': ['work truck'],\n",
       "   'w': 265,\n",
       "   'y': 271,\n",
       "   'x': 521,\n",
       "   'id': 38241},\n",
       "  {'h': 101, 'names': ['shirt'], 'w': 59, 'y': 289, 'x': 241, 'id': 7480090},\n",
       "  {'h': 182, 'names': ['sign'], 'w': 88, 'y': 13, 'x': 118, 'id': 7480091},\n",
       "  {'h': 35, 'names': ['bike'], 'w': 29, 'y': 319, 'x': 334, 'id': 7480092},\n",
       "  {'h': 251, 'names': ['man'], 'w': 75, 'y': 264, 'x': 372, 'id': 7480094},\n",
       "  {'h': 143,\n",
       "   'names': ['parking meter'],\n",
       "   'w': 32,\n",
       "   'y': 327,\n",
       "   'x': 574,\n",
       "   'id': 7480093},\n",
       "  {'h': 9, 'names': ['chin'], 'w': 11, 'y': 288, 'x': 399, 'id': 7480096},\n",
       "  {'h': 250, 'names': ['guy'], 'w': 82, 'y': 264, 'x': 369, 'id': 7480095},\n",
       "  {'h': 34, 'names': ['shoes'], 'w': 46, 'y': 481, 'x': 391, 'id': 7480098},\n",
       "  {'h': 134, 'names': ['van'], 'w': 233, 'y': 298, 'x': 529, 'id': 7480099},\n",
       "  {'h': 533, 'names': ['wall'], 'w': 134, 'y': 1, 'x': 0, 'id': 7480101},\n",
       "  {'h': 262, 'names': ['man'], 'w': 60, 'y': 249, 'x': 238, 'id': 7480102},\n",
       "  {'h': 360, 'names': ['tree'], 'w': 176, 'y': 0, 'x': 249, 'id': 7480107},\n",
       "  {'h': 35, 'names': ['bikes'], 'w': 40, 'y': 319, 'x': 321, 'id': 7480106},\n",
       "  {'h': 536, 'names': ['building'], 'w': 218, 'y': 2, 'x': 1, 'id': 7480108},\n",
       "  {'h': 339, 'names': ['clock'], 'w': 79, 'y': 91, 'x': 421, 'id': 7480111},\n",
       "  {'h': 43, 'names': ['arm'], 'w': 32, 'y': 283, 'x': 368, 'id': 7480114},\n",
       "  {'h': 66, 'names': ['shirt'], 'w': 37, 'y': 306, 'x': 384, 'id': 7480117},\n",
       "  {'h': 12, 'names': ['glasses'], 'w': 20, 'y': 268, 'x': 271, 'id': 7480122},\n",
       "  {'h': 430,\n",
       "   'names': ['lamp post'],\n",
       "   'w': 41,\n",
       "   'y': 63,\n",
       "   'x': 537,\n",
       "   'id': 7480123},\n",
       "  {'h': 118, 'names': ['pants'], 'w': 38, 'y': 384, 'x': 245, 'id': 7480127},\n",
       "  {'h': 128, 'names': ['pants'], 'w': 54, 'y': 369, 'x': 382, 'id': 7480128},\n",
       "  {'h': 97, 'names': ['jacket'], 'w': 89, 'y': 296, 'x': 356, 'id': 7480130},\n",
       "  {'h': 233, 'names': ['street'], 'w': 440, 'y': 283, 'x': 358, 'id': 7480131},\n",
       "  {'h': 266,\n",
       "   'names': ['sidewalk'],\n",
       "   'w': 722,\n",
       "   'y': 331,\n",
       "   'x': 77,\n",
       "   'id': 7480141},\n",
       "  {'h': 557, 'names': ['trees'], 'w': 606, 'y': 0, 'x': 190, 'id': 7480140},\n",
       "  {'h': 174, 'names': ['car'], 'w': 91, 'y': 342, 'x': 708, 'id': 7480143},\n",
       "  {'h': 185,\n",
       "   'names': ['work truck'],\n",
       "   'w': 265,\n",
       "   'y': 271,\n",
       "   'x': 521,\n",
       "   'id': 7480149}],\n",
       " 'id': 1}"
      ]
     },
     "execution_count": 4,
     "metadata": {},
     "output_type": "execute_result"
    }
   ],
   "source": [
    "data[0]"
   ]
  },
  {
   "cell_type": "code",
   "execution_count": null,
   "metadata": {},
   "outputs": [],
   "source": []
  }
 ],
 "metadata": {
  "kernelspec": {
   "display_name": "myenv",
   "language": "python",
   "name": "myenv"
  },
  "language_info": {
   "codemirror_mode": {
    "name": "ipython",
    "version": 3
   },
   "file_extension": ".py",
   "mimetype": "text/x-python",
   "name": "python",
   "nbconvert_exporter": "python",
   "pygments_lexer": "ipython3",
   "version": "3.6.5"
  },
  "varInspector": {
   "cols": {
    "lenName": 16,
    "lenType": 16,
    "lenVar": 40
   },
   "kernels_config": {
    "python": {
     "delete_cmd_postfix": "",
     "delete_cmd_prefix": "del ",
     "library": "var_list.py",
     "varRefreshCmd": "print(var_dic_list())"
    },
    "r": {
     "delete_cmd_postfix": ") ",
     "delete_cmd_prefix": "rm(",
     "library": "var_list.r",
     "varRefreshCmd": "cat(var_dic_list()) "
    }
   },
   "types_to_exclude": [
    "module",
    "function",
    "builtin_function_or_method",
    "instance",
    "_Feature"
   ],
   "window_display": false
  }
 },
 "nbformat": 4,
 "nbformat_minor": 2
}
