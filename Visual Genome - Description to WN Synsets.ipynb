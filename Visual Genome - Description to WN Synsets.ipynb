{
 "cells": [
  {
   "cell_type": "code",
   "execution_count": 1,
   "metadata": {},
   "outputs": [],
   "source": [
    "# Auto-reload modules when accessing them:\n",
    "%load_ext autoreload\n",
    "%autoreload 2 \n",
    "\n",
    "# Echo all output:\n",
    "from IPython.core.interactiveshell import InteractiveShell\n",
    "InteractiveShell.ast_node_interactivity = \"all\"\n",
    "\n",
    "# Import own functions for image analysis:\n",
    "import analysis_funs as va"
   ]
  },
  {
   "cell_type": "code",
   "execution_count": 2,
   "metadata": {},
   "outputs": [
    {
     "name": "stdout",
     "output_type": "stream",
     "text": [
      "Loading pickles/region_descriptions.json.marshal...\n"
     ]
    }
   ],
   "source": [
    "data = va.load_data('region_descriptions.json', prefix = '1.2/VG/1.2/')\n",
    "assert len(data) == 108077"
   ]
  },
  {
   "cell_type": "code",
   "execution_count": 3,
   "metadata": {},
   "outputs": [],
   "source": [
    "# POS tagger directory: stanford-postagger-2017-06-09/models/english-bidirectional-distsim.tagger\n",
    "from nltk.tag import StanfordPOSTagger\n",
    "st = StanfordPOSTagger('stanford-postagger-2017-06-09/models/english-bidirectional-distsim.tagger',\n",
    "                      path_to_jar='stanford-postagger-2017-06-09/stanford-postagger.jar')"
   ]
  },
  {
   "cell_type": "code",
   "execution_count": 4,
   "metadata": {},
   "outputs": [
    {
     "data": {
      "text/plain": [
       "[('What', 'WP'),\n",
       " ('is', 'VBZ'),\n",
       " ('the', 'DT'),\n",
       " ('airspeed', 'NN'),\n",
       " ('of', 'IN'),\n",
       " ('an', 'DT'),\n",
       " ('unladen', 'JJ'),\n",
       " ('swallow', 'VB'),\n",
       " ('?', '.')]"
      ]
     },
     "execution_count": 4,
     "metadata": {},
     "output_type": "execute_result"
    }
   ],
   "source": [
    "st.tag('What is the airspeed of an unladen swallow ?'.split())"
   ]
  },
  {
   "cell_type": "code",
   "execution_count": 18,
   "metadata": {},
   "outputs": [],
   "source": [
    "# for each region look at 'phrase' - it contains the region description\n",
    "# create function description to synsets\n",
    "# run it through the whole file and create a new json with output\n",
    "\n",
    "\n",
    "# Create a map between penn treebank and WordNet \n",
    "from nltk.corpus import wordnet as wn\n",
    "\n",
    "# WordNet POS tags are: NOUN = 'n', ADJ = 's', VERB = 'v', ADV = 'r', ADJ_SAT = 'a'\n",
    "tag_map = {\n",
    "            'CC':None, # coordin. conjunction (and, but, or)  \n",
    "            'CD':wn.NOUN, # cardinal number (one, two)             \n",
    "            'DT':None, # determiner (a, the)                    \n",
    "            'EX':wn.ADV, # existential ‘there’ (there)           \n",
    "            'FW':None, # foreign word (mea culpa)             \n",
    "            'IN':wn.ADV, # preposition/sub-conj (of, in, by)   \n",
    "            'JJ':[wn.ADJ, wn.ADJ_SAT], # adjective (yellow)                  \n",
    "            'JJR':[wn.ADJ, wn.ADJ_SAT], # adj., comparative (bigger)          \n",
    "            'JJS':[wn.ADJ, wn.ADJ_SAT], # adj., superlative (wildest)           \n",
    "            'LS':None, # list item marker (1, 2, One)          \n",
    "            'MD':None, # modal (can, should)                    \n",
    "            'NN':wn.NOUN, # noun, sing. or mass (llama)          \n",
    "            'NNS':wn.NOUN, # noun, plural (llamas)                  \n",
    "            'NNP':wn.NOUN, # proper noun, sing. (IBM)              \n",
    "            'NNPS':wn.NOUN, # proper noun, plural (Carolinas)\n",
    "            'PDT':[wn.ADJ, wn.ADJ_SAT], # predeterminer (all, both)            \n",
    "            'POS':None, # possessive ending (’s )               \n",
    "            'PRP':None, # personal pronoun (I, you, he)     \n",
    "            'PRP$':None, # possessive pronoun (your, one’s)    \n",
    "            'RB':wn.ADV, # adverb (quickly, never)            \n",
    "            'RBR':wn.ADV, # adverb, comparative (faster)        \n",
    "            'RBS':wn.ADV, # adverb, superlative (fastest)     \n",
    "            'RP':[wn.ADJ, wn.ADJ_SAT], # particle (up, off)\n",
    "            'SYM':None, # symbol (+,%, &)\n",
    "            'TO':None, # “to” (to)\n",
    "            'UH':None, # interjection (ah, oops)\n",
    "            'VB':wn.VERB, # verb base form (eat)\n",
    "            'VBD':wn.VERB, # verb past tense (ate)\n",
    "            'VBG':wn.VERB, # verb gerund (eating)\n",
    "            'VBN':wn.VERB, # verb past participle (eaten)\n",
    "            'VBP':wn.VERB, # verb non-3sg pres (eat)\n",
    "            'VBZ':wn.VERB, # verb 3sg pres (eats)\n",
    "            'WDT':None, # wh-determiner (which, that)\n",
    "            'WP':None, # wh-pronoun (what, who)\n",
    "            'WP$':None, # possessive (wh- whose)\n",
    "            'WRB':None, # wh-adverb (how, where)\n",
    "            '$':None, #  dollar sign ($)\n",
    "            '#':None, # pound sign (#)\n",
    "            '“':None, # left quote (‘ or “)\n",
    "            '”':None, # right quote (’ or ”)\n",
    "            '(':None, # left parenthesis ([, (, {, <)\n",
    "            ')':None, # right parenthesis (], ), }, >)\n",
    "            ',':None, # comma (,)\n",
    "            '.':None, # sentence-final punc (. ! ?)\n",
    "            ':':None # mid-sentence punc (: ; ... – -)\n",
    "        }"
   ]
  },
  {
   "cell_type": "code",
   "execution_count": 57,
   "metadata": {},
   "outputs": [
    {
     "data": {
      "text/plain": [
       "['man.n.01', 'wear.v.01', 'black.a.01', 'apparel.n.01']"
      ]
     },
     "execution_count": 57,
     "metadata": {},
     "output_type": "execute_result"
    },
    {
     "data": {
      "text/plain": [
       "['side.n.01', 'base_on_balls.n.01', 'be.v.01', 'make.v.01', 'brick.n.01']"
      ]
     },
     "execution_count": 57,
     "metadata": {},
     "output_type": "execute_result"
    },
    {
     "data": {
      "text/plain": [
       "['part.n.01',\n",
       " 'road.n.01',\n",
       " 'be.v.01',\n",
       " 'red.s.01',\n",
       " 'marked.s.01',\n",
       " 'white.a.01',\n",
       " 'band.n.04']"
      ]
     },
     "execution_count": 57,
     "metadata": {},
     "output_type": "execute_result"
    },
    {
     "data": {
      "text/plain": [
       "['there.r.01', 'be.v.01', 'green.s.01', 'tree.n.01']"
      ]
     },
     "execution_count": 57,
     "metadata": {},
     "output_type": "execute_result"
    },
    {
     "data": {
      "text/plain": [
       "['be.v.01', 'airspeed.n.01', 'swallow.v.01']"
      ]
     },
     "execution_count": 57,
     "metadata": {},
     "output_type": "execute_result"
    }
   ],
   "source": [
    "phrase1 = 'A man wearing black clothes'\n",
    "phrase2 = 'the side walk is  made of bricks'\n",
    "phrase3 = 'part of the road is red marked with white stripes'\n",
    "phrase4 = 'there are green trees'\n",
    "phrase5 = 'What is the airspeed of an unladen swallow ?'\n",
    "def phrase_to_synset(phrase, debug = False):\n",
    "    phrase_tagged = st.tag(phrase.split())\n",
    "    if debug: print(phrase_tagged)\n",
    "    syns = [likeliest_synset(t[0], tag_map[t[1]]) for t in phrase_tagged if tag_map[t[1]]]\n",
    "    syns = [s for s in syns if s]\n",
    "    return syns\n",
    "    \n",
    "def max_dict(d):\n",
    "    if d: return max(d, key=lambda key: d[key])\n",
    "    else: return None\n",
    "\n",
    "def likeliest_synset(word, tags, debug = False):\n",
    "    \"\"\"word: string\n",
    "    tags: list of WordNet tags, can be one of:\n",
    "        NOUN = 'n', ADJ = 's', VERB = 'v', ADV = 'r', ADJ_SAT = 'a'\"\"\"\n",
    "    synsets = wn.synsets(word, tags)\n",
    "    \n",
    "    synset_freqs = {}\n",
    "    \n",
    "    for synset in synsets:\n",
    "        freq = 0  \n",
    "        for lemma in synset.lemmas():\n",
    "            freq += lemma.count()\n",
    "            synset_freqs[synset.name()] = freq\n",
    "            \n",
    "    if debug: print(synset_freqs)\n",
    "    \n",
    "    return max_dict(synset_freqs)\n",
    "    \n",
    "#likeliest_synset('yellow', 's')\n",
    "phrase_to_synset(phrase1)\n",
    "phrase_to_synset(phrase2)\n",
    "phrase_to_synset(phrase3)\n",
    "phrase_to_synset(phrase4)\n",
    "phrase_to_synset(phrase5)"
   ]
  },
  {
   "cell_type": "code",
   "execution_count": 34,
   "metadata": {},
   "outputs": [],
   "source": [
    "phrase_tagged = st.tag(phrase1.split())"
   ]
  },
  {
   "cell_type": "code",
   "execution_count": 36,
   "metadata": {},
   "outputs": [
    {
     "data": {
      "text/plain": [
       "[('A', 'DT'),\n",
       " ('man', 'NN'),\n",
       " ('wearing', 'VBG'),\n",
       " ('black', 'JJ'),\n",
       " ('clothes', 'NNS')]"
      ]
     },
     "execution_count": 36,
     "metadata": {},
     "output_type": "execute_result"
    }
   ],
   "source": [
    "[a for a in phrase_tagged]"
   ]
  },
  {
   "cell_type": "code",
   "execution_count": 44,
   "metadata": {},
   "outputs": [
    {
     "data": {
      "text/plain": [
       "[Synset('apparel.n.01')]"
      ]
     },
     "execution_count": 44,
     "metadata": {},
     "output_type": "execute_result"
    }
   ],
   "source": [
    "wn.synsets('apparel', pos=[wn.NOUN])"
   ]
  },
  {
   "cell_type": "code",
   "execution_count": 13,
   "metadata": {
    "scrolled": true
   },
   "outputs": [
    {
     "data": {
      "text/plain": [
       "[Synset('green.n.01'),\n",
       " Synset('park.n.02'),\n",
       " Synset('green.n.03'),\n",
       " Synset('green.n.04'),\n",
       " Synset('green.n.05'),\n",
       " Synset('green.n.06'),\n",
       " Synset('greens.n.01'),\n",
       " Synset('k.n.07'),\n",
       " Synset('green.v.01'),\n",
       " Synset('green.s.01'),\n",
       " Synset('green.a.02'),\n",
       " Synset('green.a.03'),\n",
       " Synset('green.s.04'),\n",
       " Synset('fleeceable.s.01')]"
      ]
     },
     "execution_count": 13,
     "metadata": {},
     "output_type": "execute_result"
    }
   ],
   "source": [
    "wn.synsets('green')"
   ]
  },
  {
   "cell_type": "code",
   "execution_count": null,
   "metadata": {},
   "outputs": [],
   "source": [
    "# s  =  adjective satellite\n",
    "# r  =  adverb"
   ]
  },
  {
   "cell_type": "code",
   "execution_count": 66,
   "metadata": {
    "scrolled": true
   },
   "outputs": [
    {
     "data": {
      "text/plain": [
       "'below a satisfactory level'"
      ]
     },
     "execution_count": 66,
     "metadata": {},
     "output_type": "execute_result"
    }
   ],
   "source": [
    "wn.synset('off.s.02').definition()"
   ]
  },
  {
   "cell_type": "code",
   "execution_count": 25,
   "metadata": {},
   "outputs": [
    {
     "data": {
      "text/plain": [
       "'off.s.02'"
      ]
     },
     "execution_count": 25,
     "metadata": {},
     "output_type": "execute_result"
    }
   ],
   "source": [
    "a = wn.synset('off.s.02')\n",
    "a.name()"
   ]
  },
  {
   "cell_type": "code",
   "execution_count": 48,
   "metadata": {},
   "outputs": [
    {
     "data": {
      "text/plain": [
       "'s'"
      ]
     },
     "execution_count": 48,
     "metadata": {},
     "output_type": "execute_result"
    }
   ],
   "source": [
    "wn.ADJ_SAT"
   ]
  },
  {
   "cell_type": "code",
   "execution_count": 7,
   "metadata": {},
   "outputs": [
    {
     "data": {
      "text/plain": [
       "{'CC': None,\n",
       " 'CD': 'n',\n",
       " 'DT': None,\n",
       " 'EX': 'r',\n",
       " 'FW': None,\n",
       " 'IN': 'r',\n",
       " 'JJ': ['a', 's'],\n",
       " 'JJR': ['a', 's'],\n",
       " 'JJS': ['a', 's'],\n",
       " 'LS': None,\n",
       " 'MD': None,\n",
       " 'NN': 'n',\n",
       " 'NNS': 'n',\n",
       " 'NNP': 'n',\n",
       " 'NNPS': 'n',\n",
       " 'PDT': ['a', 's'],\n",
       " 'POS': None,\n",
       " 'PRP': None,\n",
       " 'PRP$': None,\n",
       " 'RB': 'r',\n",
       " 'RBR': 'r',\n",
       " 'RBS': 'r',\n",
       " 'RP': ['a', 's'],\n",
       " 'SYM': None,\n",
       " 'TO': None,\n",
       " 'UH': None,\n",
       " 'VB': 'v',\n",
       " 'VBD': 'v',\n",
       " 'VBG': 'v',\n",
       " 'VBN': 'v',\n",
       " 'VBP': 'v',\n",
       " 'VBZ': 'v',\n",
       " 'WDT': None,\n",
       " 'WP': None,\n",
       " 'WP$': None,\n",
       " 'WRB': None,\n",
       " '$': None,\n",
       " '#': None,\n",
       " '“': None,\n",
       " '”': None,\n",
       " '(': None,\n",
       " ')': None,\n",
       " ',': None,\n",
       " '.': None,\n",
       " ':': None}"
      ]
     },
     "execution_count": 7,
     "metadata": {},
     "output_type": "execute_result"
    }
   ],
   "source": [
    "tag_map"
   ]
  },
  {
   "cell_type": "code",
   "execution_count": null,
   "metadata": {},
   "outputs": [],
   "source": []
  }
 ],
 "metadata": {
  "kernelspec": {
   "display_name": "myenv",
   "language": "python",
   "name": "myenv"
  },
  "language_info": {
   "codemirror_mode": {
    "name": "ipython",
    "version": 3
   },
   "file_extension": ".py",
   "mimetype": "text/x-python",
   "name": "python",
   "nbconvert_exporter": "python",
   "pygments_lexer": "ipython3",
   "version": "3.6.6"
  },
  "varInspector": {
   "cols": {
    "lenName": 16,
    "lenType": 16,
    "lenVar": 40
   },
   "kernels_config": {
    "python": {
     "delete_cmd_postfix": "",
     "delete_cmd_prefix": "del ",
     "library": "var_list.py",
     "varRefreshCmd": "print(var_dic_list())"
    },
    "r": {
     "delete_cmd_postfix": ") ",
     "delete_cmd_prefix": "rm(",
     "library": "var_list.r",
     "varRefreshCmd": "cat(var_dic_list()) "
    }
   },
   "types_to_exclude": [
    "module",
    "function",
    "builtin_function_or_method",
    "instance",
    "_Feature"
   ],
   "window_display": false
  }
 },
 "nbformat": 4,
 "nbformat_minor": 2
}
